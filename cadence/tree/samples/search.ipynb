{
 "cells": [
  {
   "cell_type": "code",
   "execution_count": 1,
   "id": "3d03775d",
   "metadata": {},
   "outputs": [
    {
     "data": {
      "text/plain": [
       "'/Users/mgale/dev/mgale694/cadence/cadence'"
      ]
     },
     "execution_count": 1,
     "metadata": {},
     "output_type": "execute_result"
    }
   ],
   "source": [
    "import os\n",
    "\n",
    "os.path.dirname(os.path.dirname(os.getcwd()))"
   ]
  },
  {
   "cell_type": "code",
   "execution_count": 2,
   "id": "742c7e1b",
   "metadata": {},
   "outputs": [],
   "source": [
    "from tree.binary.search import BinarySearchTree"
   ]
  },
  {
   "cell_type": "code",
   "execution_count": 3,
   "id": "e767e30f",
   "metadata": {},
   "outputs": [],
   "source": [
    "bst = BinarySearchTree()"
   ]
  },
  {
   "cell_type": "code",
   "execution_count": 4,
   "id": "81a612cc",
   "metadata": {},
   "outputs": [],
   "source": [
    "bst.insert(10)"
   ]
  },
  {
   "cell_type": "code",
   "execution_count": 12,
   "id": "5962d858",
   "metadata": {},
   "outputs": [
    {
     "data": {
      "text/plain": [
       "BinarySearchTree([1, 2, 3, 4, 5, 6, 7, 8, 9, 10, 11, 12, 13, 14, 15, 16, 17])"
      ]
     },
     "execution_count": 12,
     "metadata": {},
     "output_type": "execute_result"
    }
   ],
   "source": [
    "bst"
   ]
  },
  {
   "cell_type": "code",
   "execution_count": 13,
   "id": "f70bc944",
   "metadata": {},
   "outputs": [
    {
     "name": "stdout",
     "output_type": "stream",
     "text": [
      "\n",
      "          10_\n",
      "         /   \\\n",
      "         9  11_\n",
      "        /      \\\n",
      "        8     12_\n",
      "       /         \\\n",
      "       7        13_\n",
      "      /            \\\n",
      "      6           14_\n",
      "     /               \\\n",
      "     5              15_\n",
      "    /                  \\\n",
      "    4                 16_\n",
      "   /                     \\\n",
      "   3                    17\n",
      "  /\n",
      "  2\n",
      " /\n",
      "1\n",
      "\n"
     ]
    }
   ],
   "source": [
    "print(bst)"
   ]
  },
  {
   "cell_type": "code",
   "execution_count": null,
   "id": "df7a92f8",
   "metadata": {},
   "outputs": [],
   "source": []
  }
 ],
 "metadata": {
  "kernelspec": {
   "display_name": "venv",
   "language": "python",
   "name": "python3"
  },
  "language_info": {
   "codemirror_mode": {
    "name": "ipython",
    "version": 3
   },
   "file_extension": ".py",
   "mimetype": "text/x-python",
   "name": "python",
   "nbconvert_exporter": "python",
   "pygments_lexer": "ipython3",
   "version": "3.12.7"
  }
 },
 "nbformat": 4,
 "nbformat_minor": 5
}
