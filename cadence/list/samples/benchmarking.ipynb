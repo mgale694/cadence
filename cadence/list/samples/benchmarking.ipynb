{
 "cells": [
  {
   "cell_type": "code",
   "execution_count": 4,
   "id": "d3eb308d",
   "metadata": {},
   "outputs": [
    {
     "data": {
      "text/plain": [
       "'/Users/mgale/dev/mgale694/cadence/cadence'"
      ]
     },
     "execution_count": 4,
     "metadata": {},
     "output_type": "execute_result"
    }
   ],
   "source": [
    "import os\n",
    "\n",
    "os.path.dirname(os.path.dirname(os.getcwd()))"
   ]
  },
  {
   "cell_type": "code",
   "execution_count": 5,
   "id": "b74b6f75",
   "metadata": {},
   "outputs": [],
   "source": [
    "from list.linked import SingleLinkedList, DoubleLinkedList"
   ]
  },
  {
   "cell_type": "code",
   "execution_count": 6,
   "id": "5e0ce460",
   "metadata": {},
   "outputs": [
    {
     "name": "stdout",
     "output_type": "stream",
     "text": [
      "Performance by list type:\n",
      "Python list:        append=0.0044s, iterate=0.0015s, insert=0.0001s, insert at index 0=0.0051s\n",
      "SingleLinkedList:   append=60.5796s, iterate=0.0035s, insert=0.0870s, insert at index 0=0.0001s\n",
      "DoubleLinkedList:   append=0.0517s, iterate=39.4090s, insert=0.0428s, insert at index 0=0.0001s\n",
      "Performance by operation:\n",
      "Append:              Python list=0.0044s, SingleLinkedList=60.5796s, DoubleLinkedList=0.0517s\n",
      "Iterate:             Python list=0.0015s, SingleLinkedList=0.0035s, DoubleLinkedList=39.4090s\n",
      "Insert at index:     Python list=0.0001s, SingleLinkedList=0.0870s, DoubleLinkedList=0.0428s\n",
      "Insert at index 0:   Python list=0.0051s, SingleLinkedList=0.0001s, DoubleLinkedList=0.0001s\n"
     ]
    }
   ],
   "source": [
    "import time\n",
    "\n",
    "# Number of elements to test with\n",
    "N = 100_000\n",
    "\n",
    "# Prepare containers\n",
    "li = []\n",
    "sli = SingleLinkedList()\n",
    "dli = DoubleLinkedList()\n",
    "\n",
    "# Benchmark list append\n",
    "start = time.time()\n",
    "for i in range(N):\n",
    "    li.append(i)\n",
    "list_append_time = time.time() - start\n",
    "\n",
    "# Benchmark SingleLinkedList append\n",
    "start = time.time()\n",
    "for i in range(N):\n",
    "    sli.append(i)\n",
    "sll_append_time = time.time() - start\n",
    "\n",
    "# Benchmark DoubleLinkedList append\n",
    "start = time.time()\n",
    "for i in range(N):\n",
    "    dli.append(i)\n",
    "dll_append_time = time.time() - start\n",
    "\n",
    "# Benchmark list iteration\n",
    "start = time.time()\n",
    "for x in li:\n",
    "    pass\n",
    "list_iter_time = time.time() - start\n",
    "\n",
    "# Benchmark SingleLinkedList iteration\n",
    "start = time.time()\n",
    "for x in sli:\n",
    "    pass\n",
    "sll_iter_time = time.time() - start\n",
    "\n",
    "# Benchmark DoubleLinkedList iteration\n",
    "start = time.time()\n",
    "for x in dli:\n",
    "    pass\n",
    "dll_iter_time = time.time() - start\n",
    "\n",
    "# Benchmark list insert at index\n",
    "start = time.time()\n",
    "for i in range(0, N, 1000):\n",
    "    li[i] = -1\n",
    "list_insert_time = time.time() - start\n",
    "\n",
    "# Benchmark SingleLinkedList insert at index\n",
    "start = time.time()\n",
    "for i in range(0, N, 1000):\n",
    "    sli[i] = -1\n",
    "sll_insert_time = time.time() - start\n",
    "\n",
    "# Benchmark DoubleLinkedList insert at index\n",
    "start = time.time()\n",
    "for i in range(0, N, 1000):\n",
    "    dli[i] = -1\n",
    "dll_insert_time = time.time() - start\n",
    "\n",
    "# Benchmark list insert at index 0\n",
    "start = time.time()\n",
    "for i in range(0, N, 1000):\n",
    "    li.insert(0, -1)\n",
    "list_insert_time_0 = time.time() - start\n",
    "\n",
    "# Benchmark SingleLinkedList insert at index 0\n",
    "start = time.time()\n",
    "for i in range(0, N, 1000):\n",
    "    sli[0] = -1\n",
    "sll_insert_time_0 = time.time() - start\n",
    "\n",
    "# Benchmark DoubleLinkedList insert at index 0\n",
    "start = time.time()\n",
    "for i in range(0, N, 1000):\n",
    "    dli[0] = -1\n",
    "dll_insert_time_0 = time.time() - start\n",
    "\n",
    "\n",
    "# Print results\n",
    "print(\"Performance by list type:\")\n",
    "print(f\"Python list:        append={list_append_time:.4f}s, iterate={list_iter_time:.4f}s, insert={list_insert_time:.4f}s, insert at index 0={list_insert_time_0:.4f}s\")\n",
    "print(f\"SingleLinkedList:   append={sll_append_time:.4f}s, iterate={sll_iter_time:.4f}s, insert={sll_insert_time:.4f}s, insert at index 0={sll_insert_time_0:.4f}s\")\n",
    "print(f\"DoubleLinkedList:   append={dll_append_time:.4f}s, iterate={dll_iter_time:.4f}s, insert={dll_insert_time:.4f}s, insert at index 0={dll_insert_time_0:.4f}s\")\n",
    "\n",
    "print(\"Performance by operation:\")\n",
    "print(f\"Append:              Python list={list_append_time:.4f}s, SingleLinkedList={sll_append_time:.4f}s, DoubleLinkedList={dll_append_time:.4f}s\")\n",
    "print(f\"Iterate:             Python list={list_iter_time:.4f}s, SingleLinkedList={sll_iter_time:.4f}s, DoubleLinkedList={dll_iter_time:.4f}s\")\n",
    "print(f\"Insert at index:     Python list={list_insert_time:.4f}s, SingleLinkedList={sll_insert_time:.4f}s, DoubleLinkedList={dll_insert_time:.4f}s\")\n",
    "print(f\"Insert at index 0:   Python list={list_insert_time_0:.4f}s, SingleLinkedList={sll_insert_time_0:.4f}s, DoubleLinkedList={dll_insert_time_0:.4f}s\")"
   ]
  },
  {
   "cell_type": "code",
   "execution_count": null,
   "id": "0f3f39f5",
   "metadata": {},
   "outputs": [],
   "source": []
  }
 ],
 "metadata": {
  "kernelspec": {
   "display_name": "venv",
   "language": "python",
   "name": "python3"
  },
  "language_info": {
   "codemirror_mode": {
    "name": "ipython",
    "version": 3
   },
   "file_extension": ".py",
   "mimetype": "text/x-python",
   "name": "python",
   "nbconvert_exporter": "python",
   "pygments_lexer": "ipython3",
   "version": "3.12.7"
  }
 },
 "nbformat": 4,
 "nbformat_minor": 5
}
