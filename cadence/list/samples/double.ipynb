{
 "cells": [
  {
   "cell_type": "code",
   "execution_count": 1,
   "id": "d3eb308d",
   "metadata": {},
   "outputs": [
    {
     "data": {
      "text/plain": [
       "'/Users/mgale/dev/mgale694/cadence/cadence'"
      ]
     },
     "execution_count": 1,
     "metadata": {},
     "output_type": "execute_result"
    }
   ],
   "source": [
    "import os\n",
    "\n",
    "os.path.dirname(os.path.dirname(os.getcwd()))"
   ]
  },
  {
   "cell_type": "code",
   "execution_count": 2,
   "id": "b74b6f75",
   "metadata": {},
   "outputs": [],
   "source": [
    "from list.linked.double import DoubleLinkedList"
   ]
  },
  {
   "cell_type": "code",
   "execution_count": 3,
   "id": "bfa3aa72",
   "metadata": {},
   "outputs": [],
   "source": [
    "li = DoubleLinkedList([1, 2, 3, \"Hi\", 5])"
   ]
  },
  {
   "cell_type": "code",
   "execution_count": 6,
   "id": "6b0b8359",
   "metadata": {},
   "outputs": [],
   "source": [
    "li.append(6)"
   ]
  },
  {
   "cell_type": "code",
   "execution_count": 8,
   "id": "356b14aa",
   "metadata": {},
   "outputs": [],
   "source": [
    "li.prepend(0)"
   ]
  },
  {
   "cell_type": "code",
   "execution_count": 9,
   "id": "365728fd",
   "metadata": {},
   "outputs": [
    {
     "name": "stdout",
     "output_type": "stream",
     "text": [
      "[0 <-> 1 <-> 2 <-> 3 <-> Hi <-> 5 <-> 6]\n"
     ]
    }
   ],
   "source": [
    "print(li)"
   ]
  },
  {
   "cell_type": "code",
   "execution_count": 7,
   "id": "ece92bd4",
   "metadata": {},
   "outputs": [],
   "source": [
    "t = [1, 2, 3, \"Hi\"]"
   ]
  },
  {
   "cell_type": "code",
   "execution_count": 8,
   "id": "00d98fcb",
   "metadata": {},
   "outputs": [
    {
     "data": {
      "text/plain": [
       "[1, 2, 3, 'Hi', 5, 1, 2, 3, 'Hi']"
      ]
     },
     "execution_count": 8,
     "metadata": {},
     "output_type": "execute_result"
    }
   ],
   "source": [
    "li + t"
   ]
  },
  {
   "cell_type": "code",
   "execution_count": 6,
   "id": "59039deb",
   "metadata": {},
   "outputs": [
    {
     "name": "stdout",
     "output_type": "stream",
     "text": [
      "0 1\n",
      "1 2\n",
      "2 3\n",
      "3 Hi\n",
      "4 5\n"
     ]
    }
   ],
   "source": [
    "for i, e in enumerate(li):\n",
    "    print(i, e)"
   ]
  },
  {
   "cell_type": "code",
   "execution_count": 4,
   "id": "4bf3df24",
   "metadata": {},
   "outputs": [
    {
     "data": {
      "text/plain": [
       "\"[1, 2, 3, 'Hi', 5]\""
      ]
     },
     "execution_count": 4,
     "metadata": {},
     "output_type": "execute_result"
    }
   ],
   "source": [
    "repr(li)"
   ]
  },
  {
   "cell_type": "code",
   "execution_count": 6,
   "id": "9cf8bb88",
   "metadata": {},
   "outputs": [
    {
     "name": "stdout",
     "output_type": "stream",
     "text": [
      "[1 -> 2 -> 3 -> Hi -> 5]\n"
     ]
    }
   ],
   "source": [
    "print(li)"
   ]
  },
  {
   "cell_type": "code",
   "execution_count": 5,
   "id": "87c63504",
   "metadata": {},
   "outputs": [],
   "source": [
    "li.append(1)\n",
    "li.append(2)\n",
    "li.append(3)"
   ]
  },
  {
   "cell_type": "code",
   "execution_count": 6,
   "id": "2e0c13f5",
   "metadata": {},
   "outputs": [
    {
     "data": {
      "text/plain": [
       "2"
      ]
     },
     "execution_count": 6,
     "metadata": {},
     "output_type": "execute_result"
    }
   ],
   "source": [
    "li[1]"
   ]
  },
  {
   "cell_type": "code",
   "execution_count": 7,
   "id": "4eee94d0",
   "metadata": {},
   "outputs": [
    {
     "data": {
      "text/plain": [
       "True"
      ]
     },
     "execution_count": 7,
     "metadata": {},
     "output_type": "execute_result"
    }
   ],
   "source": [
    "1 in li"
   ]
  },
  {
   "cell_type": "code",
   "execution_count": 8,
   "id": "4de01ac4",
   "metadata": {},
   "outputs": [],
   "source": [
    "li[2] = 5"
   ]
  },
  {
   "cell_type": "code",
   "execution_count": 9,
   "id": "e1188a11",
   "metadata": {},
   "outputs": [
    {
     "data": {
      "text/plain": [
       "SingleLinkedList([1, 2, 5, 'Hi', 5, 1, 2, 3])"
      ]
     },
     "execution_count": 9,
     "metadata": {},
     "output_type": "execute_result"
    }
   ],
   "source": [
    "li"
   ]
  },
  {
   "cell_type": "code",
   "execution_count": 10,
   "id": "2bc55c81",
   "metadata": {},
   "outputs": [
    {
     "name": "stdout",
     "output_type": "stream",
     "text": [
      "[1 -> 2 -> 5 -> Hi -> 5 -> 1 -> 2 -> 3]\n"
     ]
    }
   ],
   "source": [
    "print(li)"
   ]
  },
  {
   "cell_type": "code",
   "execution_count": 11,
   "id": "b9bd3545",
   "metadata": {},
   "outputs": [
    {
     "data": {
      "text/plain": [
       "SingleLinkedList([1, 2, 5, 'Hi', 5, 1, 2, 3])"
      ]
     },
     "execution_count": 11,
     "metadata": {},
     "output_type": "execute_result"
    }
   ],
   "source": [
    "li"
   ]
  },
  {
   "cell_type": "code",
   "execution_count": 16,
   "id": "55b2062f",
   "metadata": {},
   "outputs": [],
   "source": [
    "di={1: 1, 2: 2, 3: 3, \"Hi\": \"Hi\", 5: 5}"
   ]
  },
  {
   "cell_type": "code",
   "execution_count": 17,
   "id": "632c0363",
   "metadata": {},
   "outputs": [
    {
     "data": {
      "text/plain": [
       "{1: 1, 2: 2, 3: 3, 'Hi': 'Hi', 5: 5}"
      ]
     },
     "execution_count": 17,
     "metadata": {},
     "output_type": "execute_result"
    }
   ],
   "source": [
    "di"
   ]
  },
  {
   "cell_type": "code",
   "execution_count": 12,
   "id": "cd1ade3e",
   "metadata": {},
   "outputs": [],
   "source": [
    "t=[1,2,3]"
   ]
  },
  {
   "cell_type": "code",
   "execution_count": 13,
   "id": "9bedf3d8",
   "metadata": {},
   "outputs": [
    {
     "data": {
      "text/plain": [
       "[1, 2, 3]"
      ]
     },
     "execution_count": 13,
     "metadata": {},
     "output_type": "execute_result"
    }
   ],
   "source": [
    "t"
   ]
  },
  {
   "cell_type": "code",
   "execution_count": 14,
   "id": "d914c31b",
   "metadata": {},
   "outputs": [
    {
     "name": "stdout",
     "output_type": "stream",
     "text": [
      "[1, 2, 3]\n"
     ]
    }
   ],
   "source": [
    "print(t)"
   ]
  },
  {
   "cell_type": "code",
   "execution_count": 15,
   "id": "42fd8914",
   "metadata": {},
   "outputs": [
    {
     "data": {
      "text/plain": [
       "'[1, 2, 3]'"
      ]
     },
     "execution_count": 15,
     "metadata": {},
     "output_type": "execute_result"
    }
   ],
   "source": [
    "repr(t)"
   ]
  },
  {
   "cell_type": "code",
   "execution_count": null,
   "id": "95f63810",
   "metadata": {},
   "outputs": [],
   "source": []
  }
 ],
 "metadata": {
  "kernelspec": {
   "display_name": "venv",
   "language": "python",
   "name": "python3"
  },
  "language_info": {
   "codemirror_mode": {
    "name": "ipython",
    "version": 3
   },
   "file_extension": ".py",
   "mimetype": "text/x-python",
   "name": "python",
   "nbconvert_exporter": "python",
   "pygments_lexer": "ipython3",
   "version": "3.12.7"
  }
 },
 "nbformat": 4,
 "nbformat_minor": 5
}
