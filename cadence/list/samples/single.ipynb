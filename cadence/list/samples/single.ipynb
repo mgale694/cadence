{
 "cells": [
  {
   "cell_type": "code",
   "execution_count": 5,
   "id": "d3eb308d",
   "metadata": {},
   "outputs": [
    {
     "data": {
      "text/plain": [
       "'/Users/mgale/dev/mgale694/cadence/cadence'"
      ]
     },
     "execution_count": 5,
     "metadata": {},
     "output_type": "execute_result"
    }
   ],
   "source": [
    "import os\n",
    "\n",
    "os.path.dirname(os.path.dirname(os.getcwd()))"
   ]
  },
  {
   "cell_type": "code",
   "execution_count": 7,
   "id": "b74b6f75",
   "metadata": {},
   "outputs": [],
   "source": [
    "from list.linked.single import SingleLinkedList"
   ]
  },
  {
   "cell_type": "code",
   "execution_count": 8,
   "id": "bfa3aa72",
   "metadata": {},
   "outputs": [],
   "source": [
    "li = SingleLinkedList([1, 2, 3, \"Hi\", 5])"
   ]
  },
  {
   "cell_type": "code",
   "execution_count": 9,
   "id": "4bf3df24",
   "metadata": {},
   "outputs": [
    {
     "name": "stdout",
     "output_type": "stream",
     "text": [
      "1 -> 2 -> 3 -> Hi -> 5\n"
     ]
    }
   ],
   "source": [
    "print(li)"
   ]
  },
  {
   "cell_type": "code",
   "execution_count": 10,
   "id": "87c63504",
   "metadata": {},
   "outputs": [],
   "source": [
    "li.append(1)\n",
    "li.append(2)\n",
    "li.append(3)"
   ]
  },
  {
   "cell_type": "code",
   "execution_count": 11,
   "id": "2e0c13f5",
   "metadata": {},
   "outputs": [
    {
     "data": {
      "text/plain": [
       "2"
      ]
     },
     "execution_count": 11,
     "metadata": {},
     "output_type": "execute_result"
    }
   ],
   "source": [
    "li[1]"
   ]
  },
  {
   "cell_type": "code",
   "execution_count": 12,
   "id": "4eee94d0",
   "metadata": {},
   "outputs": [
    {
     "data": {
      "text/plain": [
       "True"
      ]
     },
     "execution_count": 12,
     "metadata": {},
     "output_type": "execute_result"
    }
   ],
   "source": [
    "1 in li"
   ]
  },
  {
   "cell_type": "code",
   "execution_count": 13,
   "id": "4de01ac4",
   "metadata": {},
   "outputs": [],
   "source": [
    "li[2] = 5"
   ]
  },
  {
   "cell_type": "code",
   "execution_count": 14,
   "id": "e1188a11",
   "metadata": {},
   "outputs": [
    {
     "data": {
      "text/plain": [
       "SingleLinkedList()"
      ]
     },
     "execution_count": 14,
     "metadata": {},
     "output_type": "execute_result"
    }
   ],
   "source": [
    "li"
   ]
  },
  {
   "cell_type": "code",
   "execution_count": 15,
   "id": "2bc55c81",
   "metadata": {},
   "outputs": [
    {
     "name": "stdout",
     "output_type": "stream",
     "text": [
      "1 -> 2 -> 5 -> Hi -> 5 -> 1 -> 2 -> 3\n"
     ]
    }
   ],
   "source": [
    "print(li)"
   ]
  },
  {
   "cell_type": "code",
   "execution_count": null,
   "id": "b9bd3545",
   "metadata": {},
   "outputs": [],
   "source": []
  },
  {
   "cell_type": "code",
   "execution_count": null,
   "id": "cd1ade3e",
   "metadata": {},
   "outputs": [],
   "source": []
  }
 ],
 "metadata": {
  "kernelspec": {
   "display_name": "venv",
   "language": "python",
   "name": "python3"
  },
  "language_info": {
   "codemirror_mode": {
    "name": "ipython",
    "version": 3
   },
   "file_extension": ".py",
   "mimetype": "text/x-python",
   "name": "python",
   "nbconvert_exporter": "python",
   "pygments_lexer": "ipython3",
   "version": "3.12.7"
  }
 },
 "nbformat": 4,
 "nbformat_minor": 5
}
